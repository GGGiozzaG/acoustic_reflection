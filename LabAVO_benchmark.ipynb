{
 "cells": [
  {
   "cell_type": "markdown",
   "metadata": {},
   "source": [
    "# LabAVO - Modeling of acoustic velocities and density of rocks at laboratory scale\n",
    "\n",
    "## Gabriel Gallardo-Giozza $^{(1)}$, Domenico Crisafulli $^{(1)}$, Feiyue Xia $^{(1)}$, Daria Olszowska $^{(2)}$, Carlos Torres-Verdin $^{(1)}$\n",
    "## $^{(1)}$ The University of Texas at Austin; $^{(2)}$ Terra Dynamics Inc.\n",
    "\n",
    "This notebook provides theoretical review and functions to model amplitude vs. offset (AVO) distributions observed at laboratory scale. \\\n",
    "Due to scale at laboratory conditions, source's and receiver's size have to be considered in the analysis. \\\n",
    "\n",
    "This notebook follows the following work:\n",
    "- Daria Olszowska, Gabriel Gallardo-Giozza, Domenico Crisafulli, Carlos Torres-Verdín, 2023 \\\n",
    "    Angle-Dependent Ultrasonic Wave Reflection for Estimating High-Resolution Elastic Properties of Complex Rock Samples \\\n",
    "    DOI: https://doi-org/10.30632/PJV64N3-2023a6\n",
    "- Daria Olszowska, Gabriel Gallardo-Giozza, Gabriel Gallardo-Giozza, Carlos Torres-Verdín, 2024 \\\n",
    "    Two-dimensional imaging of elastic properties of rock core samples from measurements of angle-dependent ultrasonic reflection coefficients \\\n",
    "    DOI: https://https://doi-org/10.1190/geo2023-0505.1\n",
    "- Daria Olszowska, Gabriel Gallardo-Giozza, Feiyue Xia, Domenico Crisafulli, Carlos Torres-Verdín, 2025 \\\n",
    "    Influence of Sample Anisotropy on Angle-Dependent Ultrasonic Reflection Coefficients: A Study Using Synthetic 3D Printed Layered Samples \\\n",
    "    Ongoing review\n",
    "\n",
    "This notebook is designed to describe and benchmark theory and assumptions made during this research. Functions used in this notebook are available in external files.\n",
    "\n",
    "Structure of this notebook is as follows:\n",
    "1. Forward modeling. Point-source vs infinite-source vs finite-source\n",
    "2. Benchmarking. Analytical model vs numerical model vs measurements\n",
    "3. Future analysis\n"
   ]
  },
  {
   "cell_type": "code",
   "execution_count": null,
   "metadata": {},
   "outputs": [],
   "source": []
  }
 ],
 "metadata": {
  "language_info": {
   "name": "python"
  }
 },
 "nbformat": 4,
 "nbformat_minor": 2
}
